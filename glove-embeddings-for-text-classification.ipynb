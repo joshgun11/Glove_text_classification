{
 "cells": [
  {
   "cell_type": "code",
   "execution_count": 1,
   "metadata": {
    "execution": {
     "iopub.execute_input": "2022-05-31T08:09:49.177269Z",
     "iopub.status.busy": "2022-05-31T08:09:49.176838Z",
     "iopub.status.idle": "2022-05-31T08:09:57.298386Z",
     "shell.execute_reply": "2022-05-31T08:09:57.297342Z",
     "shell.execute_reply.started": "2022-05-31T08:09:49.177173Z"
    }
   },
   "outputs": [],
   "source": [
    "import numpy as np \n",
    "import pandas as pd\n",
    "import matplotlib.pyplot as plt\n",
    "import seaborn as sns\n",
    "import keras\n",
    "from keras.preprocessing.text import Tokenizer\n",
    "from tensorflow.keras.preprocessing.sequence import pad_sequences\n",
    "from keras.layers import GlobalMaxPool1D,Embedding,Dense\n",
    "from keras.layers import Dense, Embedding, LSTM, SpatialDropout1D,Bidirectional\n",
    "from sklearn.model_selection import train_test_split\n",
    "from keras.utils.np_utils import to_categorical\n",
    "from keras.callbacks import EarlyStopping\n",
    "from keras.layers import Dropout\n",
    "import re\n",
    "from nltk.corpus import stopwords\n",
    "from nltk import word_tokenize\n",
    "STOPWORDS = set(stopwords.words('english'))\n",
    "#from bs4 import BeautifulSoup\n",
    "import plotly.graph_objs as go\n",
    "from keras.models import Sequential\n",
    "from keras import layers\n",
    "import tensorflow as tf "
   ]
  },
  {
   "cell_type": "code",
   "execution_count": 3,
   "metadata": {
    "execution": {
     "iopub.execute_input": "2022-05-31T08:10:30.448726Z",
     "iopub.status.busy": "2022-05-31T08:10:30.448290Z",
     "iopub.status.idle": "2022-05-31T08:10:31.403867Z",
     "shell.execute_reply": "2022-05-31T08:10:31.402815Z",
     "shell.execute_reply.started": "2022-05-31T08:10:30.448695Z"
    }
   },
   "outputs": [],
   "source": [
    "df = pd.read_csv(\"../input/new-cleaned-data/cleaned_data.csv\")"
   ]
  },
  {
   "cell_type": "code",
   "execution_count": 5,
   "metadata": {
    "execution": {
     "iopub.execute_input": "2022-05-31T08:11:34.198401Z",
     "iopub.status.busy": "2022-05-31T08:11:34.197919Z",
     "iopub.status.idle": "2022-05-31T08:11:34.205879Z",
     "shell.execute_reply": "2022-05-31T08:11:34.204761Z",
     "shell.execute_reply.started": "2022-05-31T08:11:34.198327Z"
    }
   },
   "outputs": [],
   "source": [
    "df = df[[\"text_eng_cleaned\",\"label\"]]\n",
    "df.rename(columns={\"text_eng_cleaned\": \"text\"},inplace = True)"
   ]
  },
  {
   "cell_type": "code",
   "execution_count": 6,
   "metadata": {
    "execution": {
     "iopub.execute_input": "2022-05-31T08:11:36.423735Z",
     "iopub.status.busy": "2022-05-31T08:11:36.423348Z",
     "iopub.status.idle": "2022-05-31T08:11:36.456765Z",
     "shell.execute_reply": "2022-05-31T08:11:36.455722Z",
     "shell.execute_reply.started": "2022-05-31T08:11:36.423703Z"
    }
   },
   "outputs": [],
   "source": [
    "df.dropna(inplace = True)"
   ]
  },
  {
   "cell_type": "code",
   "execution_count": 7,
   "metadata": {
    "execution": {
     "iopub.execute_input": "2022-05-31T08:11:39.404727Z",
     "iopub.status.busy": "2022-05-31T08:11:39.404283Z",
     "iopub.status.idle": "2022-05-31T08:11:39.412100Z",
     "shell.execute_reply": "2022-05-31T08:11:39.410978Z",
     "shell.execute_reply.started": "2022-05-31T08:11:39.404694Z"
    }
   },
   "outputs": [],
   "source": [
    "def clean_text(x):\n",
    "    pattern = r'[^a-zA-z0-9\\s]'\n",
    "    \n",
    "    text = re.sub(pattern, '', x)\n",
    "    text = re.sub(r'[^\\w\\s]', '', text)\n",
    "    return text\n",
    "\n",
    "def clean_numbers(x):\n",
    "    if bool(re.search(r'\\d', x)):\n",
    "        x = re.sub('[0-9]{5,}', '#####', x)\n",
    "        x = re.sub('[0-9]**{4}**', '####', x)\n",
    "        x = re.sub('[0-9]**{3}**', '###', x)\n",
    "        x = re.sub('[0-9]**{2}**', '##', x)\n",
    "    return x\n"
   ]
  },
  {
   "cell_type": "code",
   "execution_count": 9,
   "metadata": {
    "execution": {
     "iopub.execute_input": "2022-05-31T08:12:13.225354Z",
     "iopub.status.busy": "2022-05-31T08:12:13.224990Z",
     "iopub.status.idle": "2022-05-31T08:12:16.845651Z",
     "shell.execute_reply": "2022-05-31T08:12:16.844550Z",
     "shell.execute_reply.started": "2022-05-31T08:12:13.225322Z"
    }
   },
   "outputs": [],
   "source": [
    "cleaned_text = []\n",
    "for i in df[\"text\"]:\n",
    "    i = clean_text(i)\n",
    "    #i = clean_numbers(i)\n",
    "    cleaned_text.append(i)"
   ]
  },
  {
   "cell_type": "code",
   "execution_count": 10,
   "metadata": {
    "execution": {
     "iopub.execute_input": "2022-05-31T08:12:19.602751Z",
     "iopub.status.busy": "2022-05-31T08:12:19.602387Z",
     "iopub.status.idle": "2022-05-31T08:12:19.613587Z",
     "shell.execute_reply": "2022-05-31T08:12:19.612323Z",
     "shell.execute_reply.started": "2022-05-31T08:12:19.602719Z"
    }
   },
   "outputs": [],
   "source": [
    "df[\"text\"]=cleaned_text"
   ]
  },
  {
   "cell_type": "code",
   "execution_count": 111,
   "metadata": {
    "execution": {
     "iopub.execute_input": "2022-05-31T12:36:28.166001Z",
     "iopub.status.busy": "2022-05-31T12:36:28.165646Z",
     "iopub.status.idle": "2022-05-31T12:36:28.191179Z",
     "shell.execute_reply": "2022-05-31T12:36:28.190170Z",
     "shell.execute_reply.started": "2022-05-31T12:36:28.165971Z"
    }
   },
   "outputs": [],
   "source": [
    "X_train,X_test,y_train,y_test = train_test_split(df[\"text\"],df[\"label\"],test_size = 0.2,random_state = 43)"
   ]
  },
  {
   "cell_type": "code",
   "execution_count": 112,
   "metadata": {
    "execution": {
     "iopub.execute_input": "2022-05-31T12:36:29.010717Z",
     "iopub.status.busy": "2022-05-31T12:36:29.010388Z",
     "iopub.status.idle": "2022-05-31T12:36:29.016925Z",
     "shell.execute_reply": "2022-05-31T12:36:29.015529Z",
     "shell.execute_reply.started": "2022-05-31T12:36:29.010687Z"
    }
   },
   "outputs": [],
   "source": [
    "from sklearn import preprocessing\n",
    "def prepare_targets(y_train, y_test):\n",
    "    le = preprocessing.LabelEncoder()\n",
    "\n",
    "    le.fit(y_train)\n",
    "    y_train_enc = le.transform(y_train)\n",
    "    y_test_enc = le.transform(y_test)\n",
    "    return y_train_enc, y_test_enc"
   ]
  },
  {
   "cell_type": "code",
   "execution_count": 113,
   "metadata": {
    "execution": {
     "iopub.execute_input": "2022-05-31T12:36:29.926952Z",
     "iopub.status.busy": "2022-05-31T12:36:29.926513Z",
     "iopub.status.idle": "2022-05-31T12:36:29.941186Z",
     "shell.execute_reply": "2022-05-31T12:36:29.939660Z",
     "shell.execute_reply.started": "2022-05-31T12:36:29.926922Z"
    }
   },
   "outputs": [],
   "source": [
    "y_train_enc,y_test_enc = prepare_targets(y_train,y_test)"
   ]
  },
  {
   "cell_type": "code",
   "execution_count": 114,
   "metadata": {
    "execution": {
     "iopub.execute_input": "2022-05-31T12:36:31.377043Z",
     "iopub.status.busy": "2022-05-31T12:36:31.376524Z",
     "iopub.status.idle": "2022-05-31T12:36:31.383086Z",
     "shell.execute_reply": "2022-05-31T12:36:31.381939Z",
     "shell.execute_reply.started": "2022-05-31T12:36:31.377008Z"
    }
   },
   "outputs": [],
   "source": [
    "y_train_enc = tf.one_hot(y_train_enc, 6) \n",
    "y_test_enc = tf.one_hot(y_test_enc, 6) "
   ]
  },
  {
   "cell_type": "code",
   "execution_count": 115,
   "metadata": {
    "execution": {
     "iopub.execute_input": "2022-05-31T12:36:34.075461Z",
     "iopub.status.busy": "2022-05-31T12:36:34.075041Z",
     "iopub.status.idle": "2022-05-31T12:36:39.199044Z",
     "shell.execute_reply": "2022-05-31T12:36:39.197942Z",
     "shell.execute_reply.started": "2022-05-31T12:36:34.075415Z"
    }
   },
   "outputs": [],
   "source": [
    "tokenizer = Tokenizer(oov_token='<OOV>')\n",
    "tokenizer.fit_on_texts(X_train)"
   ]
  },
  {
   "cell_type": "code",
   "execution_count": 116,
   "metadata": {
    "execution": {
     "iopub.execute_input": "2022-05-31T12:36:40.370902Z",
     "iopub.status.busy": "2022-05-31T12:36:40.370529Z",
     "iopub.status.idle": "2022-05-31T12:36:44.189497Z",
     "shell.execute_reply": "2022-05-31T12:36:44.188425Z",
     "shell.execute_reply.started": "2022-05-31T12:36:40.370869Z"
    }
   },
   "outputs": [],
   "source": [
    "X_train = tokenizer.texts_to_sequences(X_train,)\n",
    "X_test = tokenizer.texts_to_sequences(X_test)\n",
    "\n",
    "vocab_size = len(tokenizer.word_index) + 1  # Adding 1 because of reserved 0 index"
   ]
  },
  {
   "cell_type": "code",
   "execution_count": 117,
   "metadata": {
    "execution": {
     "iopub.execute_input": "2022-05-31T12:36:48.534672Z",
     "iopub.status.busy": "2022-05-31T12:36:48.531448Z",
     "iopub.status.idle": "2022-05-31T12:36:48.554566Z",
     "shell.execute_reply": "2022-05-31T12:36:48.550541Z",
     "shell.execute_reply.started": "2022-05-31T12:36:48.534623Z"
    }
   },
   "outputs": [
    {
     "name": "stdout",
     "output_type": "stream",
     "text": [
      "[21756, 10, 666, 193, 2881, 10, 458, 61, 6, 2, 766, 124, 4575, 1253, 999, 33, 576, 291, 999, 4, 346, 33, 234, 379, 3011, 15, 119, 2, 1918, 4, 674, 241, 2, 451, 39, 90, 4, 2, 2526, 206, 3, 907, 4, 2732, 1415, 11, 79, 11489, 6392, 4, 27, 7, 2334, 404, 2, 218, 33, 1283, 14, 20, 39, 90, 3802, 4, 277, 2638, 207, 5, 2, 124, 16, 5950, 4575, 383, 907, 2638, 8, 4210, 27528, 4, 3185, 294, 76941, 9089, 76942, 12580, 336, 1638, 336, 4978, 336, 21757, 999, 22952, 336, 1638]\n"
     ]
    }
   ],
   "source": [
    "print(X_train[10])"
   ]
  },
  {
   "cell_type": "code",
   "execution_count": 118,
   "metadata": {
    "execution": {
     "iopub.execute_input": "2022-05-31T12:37:02.566601Z",
     "iopub.status.busy": "2022-05-31T12:37:02.566197Z",
     "iopub.status.idle": "2022-05-31T12:37:03.624099Z",
     "shell.execute_reply": "2022-05-31T12:37:03.623005Z",
     "shell.execute_reply.started": "2022-05-31T12:37:02.566553Z"
    }
   },
   "outputs": [],
   "source": [
    "maxlen = 300\n",
    "\n",
    "X_train = pad_sequences(X_train, padding='post', maxlen=maxlen,truncating=\"post\")\n",
    "X_test = pad_sequences(X_test, padding='post', maxlen=maxlen,truncating=\"post\")"
   ]
  },
  {
   "cell_type": "code",
   "execution_count": 119,
   "metadata": {
    "execution": {
     "iopub.execute_input": "2022-05-31T12:37:06.173247Z",
     "iopub.status.busy": "2022-05-31T12:37:06.172901Z",
     "iopub.status.idle": "2022-05-31T12:37:06.181040Z",
     "shell.execute_reply": "2022-05-31T12:37:06.179499Z",
     "shell.execute_reply.started": "2022-05-31T12:37:06.173218Z"
    }
   },
   "outputs": [
    {
     "data": {
      "text/plain": [
       "142960"
      ]
     },
     "execution_count": 119,
     "metadata": {},
     "output_type": "execute_result"
    }
   ],
   "source": [
    "\n",
    "vocab_size"
   ]
  },
  {
   "cell_type": "code",
   "execution_count": 20,
   "metadata": {
    "execution": {
     "iopub.execute_input": "2022-05-31T08:13:25.959876Z",
     "iopub.status.busy": "2022-05-31T08:13:25.959507Z",
     "iopub.status.idle": "2022-05-31T08:13:25.967160Z",
     "shell.execute_reply": "2022-05-31T08:13:25.965782Z",
     "shell.execute_reply.started": "2022-05-31T08:13:25.959844Z"
    }
   },
   "outputs": [],
   "source": [
    "def create_embedding_matrix(filepath, word_index, embedding_dim):\n",
    "    vocab_size = len(word_index) + 1  # Adding again 1 because of reserved 0 index\n",
    "    embedding_matrix = np.zeros((vocab_size, embedding_dim))\n",
    "    file = open(filepath, errors = 'ignore', encoding='utf8')\n",
    "    for line in file:\n",
    "        word, *vector = line.split()\n",
    "        if word in word_index:\n",
    "            idx = word_index[word] \n",
    "            embedding_matrix[idx] = np.asarray(vector, dtype=np.float32)[:embedding_dim]\n",
    "\n",
    "    return embedding_matrix"
   ]
  },
  {
   "cell_type": "code",
   "execution_count": 122,
   "metadata": {
    "execution": {
     "iopub.execute_input": "2022-05-31T12:37:34.727329Z",
     "iopub.status.busy": "2022-05-31T12:37:34.726975Z",
     "iopub.status.idle": "2022-05-31T12:37:49.735401Z",
     "shell.execute_reply": "2022-05-31T12:37:49.734309Z",
     "shell.execute_reply.started": "2022-05-31T12:37:34.727299Z"
    }
   },
   "outputs": [],
   "source": [
    "import itertools\n",
    "\n",
    "embedding_matrix = create_embedding_matrix(r'../input/glove6b/glove.6B.300d.txt',tokenizer.word_index, 300)\n"
   ]
  },
  {
   "cell_type": "code",
   "execution_count": 123,
   "metadata": {
    "execution": {
     "iopub.execute_input": "2022-05-31T12:37:51.095437Z",
     "iopub.status.busy": "2022-05-31T12:37:51.095099Z",
     "iopub.status.idle": "2022-05-31T12:37:51.102955Z",
     "shell.execute_reply": "2022-05-31T12:37:51.101187Z",
     "shell.execute_reply.started": "2022-05-31T12:37:51.095406Z"
    }
   },
   "outputs": [
    {
     "data": {
      "text/plain": [
       "(142960, 300)"
      ]
     },
     "execution_count": 123,
     "metadata": {},
     "output_type": "execute_result"
    }
   ],
   "source": [
    "embedding_matrix.shape"
   ]
  },
  {
   "cell_type": "code",
   "execution_count": 124,
   "metadata": {
    "execution": {
     "iopub.execute_input": "2022-05-31T12:37:51.785958Z",
     "iopub.status.busy": "2022-05-31T12:37:51.785404Z",
     "iopub.status.idle": "2022-05-31T12:37:51.929844Z",
     "shell.execute_reply": "2022-05-31T12:37:51.928556Z",
     "shell.execute_reply.started": "2022-05-31T12:37:51.785920Z"
    }
   },
   "outputs": [
    {
     "data": {
      "text/plain": [
       "0.38567431449356465"
      ]
     },
     "execution_count": 124,
     "metadata": {},
     "output_type": "execute_result"
    }
   ],
   "source": [
    "\n",
    "nonzero_elements = np.count_nonzero(np.count_nonzero(embedding_matrix, axis=1))\n",
    "nonzero_elements / vocab_size"
   ]
  },
  {
   "cell_type": "code",
   "execution_count": 125,
   "metadata": {
    "execution": {
     "iopub.execute_input": "2022-05-31T12:37:52.875061Z",
     "iopub.status.busy": "2022-05-31T12:37:52.874705Z",
     "iopub.status.idle": "2022-05-31T12:37:52.883469Z",
     "shell.execute_reply": "2022-05-31T12:37:52.881905Z",
     "shell.execute_reply.started": "2022-05-31T12:37:52.875032Z"
    }
   },
   "outputs": [],
   "source": [
    "def model(embedding_dimension,pretrained_weights,num_classes,lr,maxlen):\n",
    "    \n",
    "    loss = tf.keras.losses.CategoricalCrossentropy()\n",
    "    metric = tf.keras.metrics.CategoricalAccuracy('accuracy')\n",
    "    optimizer = tf.keras.optimizers.Adam(learning_rate=lr)\n",
    "    \n",
    "    model = Sequential()\n",
    "    model.add(Embedding(vocab_size,embedding_dimension,weights = [pretrained_weights],\n",
    "                       input_length = maxlen,trainable = True))\n",
    "    \n",
    "    model.add(GlobalMaxPool1D())\n",
    "    \n",
    "    model.add(Dense(32,activation = 'relu'))\n",
    "    model.add(Dense(16,activation = 'relu'))\n",
    "    \n",
    "    model.add(Dense(num_classes,activation = \"softmax\"))\n",
    "    \n",
    "    model.summary()\n",
    "    \n",
    "    model.compile(loss=loss,optimizer=optimizer, metrics=[metric])\n",
    "    \n",
    "    return model"
   ]
  },
  {
   "cell_type": "code",
   "execution_count": 126,
   "metadata": {
    "execution": {
     "iopub.execute_input": "2022-05-31T12:38:05.435864Z",
     "iopub.status.busy": "2022-05-31T12:38:05.435500Z",
     "iopub.status.idle": "2022-05-31T12:38:05.442455Z",
     "shell.execute_reply": "2022-05-31T12:38:05.440984Z",
     "shell.execute_reply.started": "2022-05-31T12:38:05.435835Z"
    }
   },
   "outputs": [],
   "source": [
    "model_save_path = './'\n",
    "\n",
    "callbacks= [tf.keras.callbacks.ModelCheckpoint(filepath=model_save_path,save_weights_only=True,monitor='val_loss',mode='min',save_best_only=True),\n",
    "           tf.keras.callbacks.EarlyStopping(monitor=\"val_loss\",patience=10,verbose=0,mode=\"min\",restore_best_weights=True)]"
   ]
  },
  {
   "cell_type": "code",
   "execution_count": 33,
   "metadata": {
    "execution": {
     "iopub.execute_input": "2022-05-31T08:16:35.066720Z",
     "iopub.status.busy": "2022-05-31T08:16:35.066228Z",
     "iopub.status.idle": "2022-05-31T08:16:35.229337Z",
     "shell.execute_reply": "2022-05-31T08:16:35.228103Z",
     "shell.execute_reply.started": "2022-05-31T08:16:35.066676Z"
    }
   },
   "outputs": [
    {
     "name": "stdout",
     "output_type": "stream",
     "text": [
      "Model: \"sequential_1\"\n",
      "_________________________________________________________________\n",
      "Layer (type)                 Output Shape              Param #   \n",
      "=================================================================\n",
      "embedding_1 (Embedding)      (None, 250, 50)           7148000   \n",
      "_________________________________________________________________\n",
      "global_max_pooling1d_1 (Glob (None, 50)                0         \n",
      "_________________________________________________________________\n",
      "dense_3 (Dense)              (None, 32)                1632      \n",
      "_________________________________________________________________\n",
      "dense_4 (Dense)              (None, 16)                528       \n",
      "_________________________________________________________________\n",
      "dense_5 (Dense)              (None, 6)                 102       \n",
      "=================================================================\n",
      "Total params: 7,150,262\n",
      "Trainable params: 7,150,262\n",
      "Non-trainable params: 0\n",
      "_________________________________________________________________\n"
     ]
    }
   ],
   "source": [
    "model_standard = model(50,embedding_matrix,6,0.005,maxlen = maxlen)"
   ]
  },
  {
   "cell_type": "code",
   "execution_count": 34,
   "metadata": {
    "execution": {
     "iopub.execute_input": "2022-05-31T08:16:42.432145Z",
     "iopub.status.busy": "2022-05-31T08:16:42.431784Z",
     "iopub.status.idle": "2022-05-31T08:19:17.520398Z",
     "shell.execute_reply": "2022-05-31T08:19:17.519044Z",
     "shell.execute_reply.started": "2022-05-31T08:16:42.432112Z"
    }
   },
   "outputs": [
    {
     "name": "stdout",
     "output_type": "stream",
     "text": [
      "Epoch 1/50\n",
      "186/186 [==============================] - 18s 96ms/step - loss: 1.5601 - accuracy: 0.3559 - val_loss: 1.1872 - val_accuracy: 0.5323\n",
      "Epoch 2/50\n",
      "186/186 [==============================] - 17s 94ms/step - loss: 1.0437 - accuracy: 0.5943 - val_loss: 0.9473 - val_accuracy: 0.6411\n",
      "Epoch 3/50\n",
      "186/186 [==============================] - 18s 97ms/step - loss: 0.7849 - accuracy: 0.7102 - val_loss: 0.8874 - val_accuracy: 0.6792\n",
      "Epoch 4/50\n",
      "186/186 [==============================] - 17s 90ms/step - loss: 0.6242 - accuracy: 0.7778 - val_loss: 0.8676 - val_accuracy: 0.7015\n",
      "Epoch 5/50\n",
      "186/186 [==============================] - 17s 91ms/step - loss: 0.5452 - accuracy: 0.8092 - val_loss: 0.9069 - val_accuracy: 0.7021\n",
      "Epoch 6/50\n",
      "186/186 [==============================] - 16s 88ms/step - loss: 0.4737 - accuracy: 0.8334 - val_loss: 0.9009 - val_accuracy: 0.7143\n",
      "Epoch 7/50\n",
      "186/186 [==============================] - 17s 91ms/step - loss: 0.4082 - accuracy: 0.8580 - val_loss: 0.9731 - val_accuracy: 0.7053\n",
      "Epoch 8/50\n",
      "186/186 [==============================] - 16s 86ms/step - loss: 0.3841 - accuracy: 0.8662 - val_loss: 0.9706 - val_accuracy: 0.7197\n",
      "Epoch 9/50\n",
      "186/186 [==============================] - 17s 92ms/step - loss: 0.3399 - accuracy: 0.8806 - val_loss: 0.9830 - val_accuracy: 0.7242\n"
     ]
    }
   ],
   "source": [
    "history_standard=model_standard.fit(X_train,y_train_enc,batch_size=128,epochs=50 ,validation_data=(X_test,y_test_enc),callbacks=callbacks)"
   ]
  },
  {
   "cell_type": "code",
   "execution_count": 35,
   "metadata": {
    "execution": {
     "iopub.execute_input": "2022-05-31T08:19:24.092442Z",
     "iopub.status.busy": "2022-05-31T08:19:24.092100Z",
     "iopub.status.idle": "2022-05-31T08:19:24.101921Z",
     "shell.execute_reply": "2022-05-31T08:19:24.100800Z",
     "shell.execute_reply.started": "2022-05-31T08:19:24.092412Z"
    }
   },
   "outputs": [],
   "source": [
    "import matplotlib.pyplot as plt\n",
    "plt.style.use('ggplot')\n",
    "\n",
    "def plot_history(history):\n",
    "    acc = history.history['accuracy']\n",
    "    val_acc = history.history['val_accuracy']\n",
    "    loss = history.history['loss']\n",
    "    val_loss = history.history['val_loss']\n",
    "    x = range(1, len(acc) + 1)\n",
    "\n",
    "    plt.figure(figsize=(12, 5))\n",
    "    plt.subplot(1, 2, 1)\n",
    "    plt.plot(x, acc, 'b', label='Training acc')\n",
    "    plt.plot(x, val_acc, 'r', label='Validation acc')\n",
    "    plt.title('Training and validation accuracy')\n",
    "    plt.legend()\n",
    "    plt.subplot(1, 2, 2)\n",
    "    plt.plot(x, loss, 'b', label='Training loss')\n",
    "    plt.plot(x, val_loss, 'r', label='Validation loss')\n",
    "    plt.title('Training and validation loss')\n",
    "    plt.legend()"
   ]
  },
  {
   "cell_type": "code",
   "execution_count": 36,
   "metadata": {
    "execution": {
     "iopub.execute_input": "2022-05-31T08:19:25.712502Z",
     "iopub.status.busy": "2022-05-31T08:19:25.712091Z",
     "iopub.status.idle": "2022-05-31T08:19:26.102179Z",
     "shell.execute_reply": "2022-05-31T08:19:26.101115Z",
     "shell.execute_reply.started": "2022-05-31T08:19:25.712471Z"
    }
   },
   "outputs": [
    {
     "data": {
      "image/png": "[encoded data removed]",
      "text/plain": [
       "<Figure size 864x360 with 2 Axes>"
      ]
     },
     "metadata": {},
     "output_type": "display_data"
    }
   ],
   "source": [
    "plot_history(history_standard)"
   ]
  },
  {
   "cell_type": "code",
   "execution_count": null,
   "metadata": {},
   "outputs": [],
   "source": [
    "model_standard.evaluate(X_test,y_test_enc)[1]"
   ]
  },
  {
   "cell_type": "code",
   "execution_count": 128,
   "metadata": {
    "execution": {
     "iopub.execute_input": "2022-05-31T12:39:32.912835Z",
     "iopub.status.busy": "2022-05-31T12:39:32.912477Z",
     "iopub.status.idle": "2022-05-31T12:39:33.441386Z",
     "shell.execute_reply": "2022-05-31T12:39:33.440322Z",
     "shell.execute_reply.started": "2022-05-31T12:39:32.912792Z"
    }
   },
   "outputs": [
    {
     "name": "stdout",
     "output_type": "stream",
     "text": [
      "Model: \"sequential_50\"\n",
      "_________________________________________________________________\n",
      "Layer (type)                 Output Shape              Param #   \n",
      "=================================================================\n",
      "embedding_48 (Embedding)     (None, 300, 300)          42888000  \n",
      "_________________________________________________________________\n",
      "conv1d_31 (Conv1D)           (None, 296, 64)           96064     \n",
      "_________________________________________________________________\n",
      "dropout_45 (Dropout)         (None, 296, 64)           0         \n",
      "_________________________________________________________________\n",
      "global_max_pooling1d_15 (Glo (None, 64)                0         \n",
      "_________________________________________________________________\n",
      "dense_37 (Dense)             (None, 32)                2080      \n",
      "_________________________________________________________________\n",
      "dense_38 (Dense)             (None, 6)                 198       \n",
      "=================================================================\n",
      "Total params: 42,986,342\n",
      "Trainable params: 42,986,342\n",
      "Non-trainable params: 0\n",
      "_________________________________________________________________\n"
     ]
    }
   ],
   "source": [
    "model = Sequential()\n",
    "model.add(layers.Embedding(vocab_size, 300,weights = [embedding_matrix],\n",
    "                           input_length=maxlen,trainable = True))\n",
    "model.add(layers.Conv1D(64, 5, activation='relu'))\n",
    "model.add(layers.Dropout(0.25))\n",
    "\n",
    "#model.add(layers.GlobalMaxPooling1D())\n",
    "#model.add(layers.Conv1D(32, (3,), activation='relu'))\n",
    "#model.add(layers.GlobalMaxPooling1D())\n",
    "#model.add(layers.Conv1D(64, (3,), activation='relu'))\n",
    "model.add(layers.GlobalMaxPooling1D())\n",
    "\n",
    "\n",
    "model.add(layers.Dense(32, activation='relu'))\n",
    "\n",
    "#model.add(layers.Dense(16, activation='relu'))\n",
    "model.add(layers.Dense(6, activation='sigmoid'))\n",
    "model.compile(optimizer='adam',\n",
    "              loss='categorical_crossentropy',\n",
    "              metrics=['accuracy'])\n",
    "model.summary()"
   ]
  },
  {
   "cell_type": "code",
   "execution_count": null,
   "metadata": {
    "execution": {
     "iopub.execute_input": "2022-05-31T12:39:33.944768Z",
     "iopub.status.busy": "2022-05-31T12:39:33.944334Z"
    }
   },
   "outputs": [
    {
     "name": "stdout",
     "output_type": "stream",
     "text": [
      "Epoch 1/100\n",
      "186/186 [==============================] - 148s 787ms/step - loss: 1.4135 - accuracy: 0.4630 - val_loss: 0.8379 - val_accuracy: 0.7118\n",
      "Epoch 2/100\n",
      "  5/186 [..............................] - ETA: 2:16 - loss: 0.6939 - accuracy: 0.7603"
     ]
    }
   ],
   "source": [
    "history_cnn=model.fit(X_train,y_train_enc,batch_size=128,epochs=100 ,validation_data=(X_test,y_test_enc),callbacks=callbacks)"
   ]
  },
  {
   "cell_type": "code",
   "execution_count": 109,
   "metadata": {
    "execution": {
     "iopub.execute_input": "2022-05-31T12:35:32.522493Z",
     "iopub.status.busy": "2022-05-31T12:35:32.521928Z",
     "iopub.status.idle": "2022-05-31T12:35:33.093709Z",
     "shell.execute_reply": "2022-05-31T12:35:33.092567Z",
     "shell.execute_reply.started": "2022-05-31T12:35:32.522439Z"
    }
   },
   "outputs": [
    {
     "data": {
      "image/png": "[encoded data removed]",
      "text/plain": [
       "<Figure size 864x360 with 2 Axes>"
      ]
     },
     "metadata": {},
     "output_type": "display_data"
    }
   ],
   "source": [
    "plot_history(history_cnn)"
   ]
  },
  {
   "cell_type": "code",
   "execution_count": 110,
   "metadata": {
    "execution": {
     "iopub.execute_input": "2022-05-31T12:35:37.789384Z",
     "iopub.status.busy": "2022-05-31T12:35:37.789005Z",
     "iopub.status.idle": "2022-05-31T12:35:38.761642Z",
     "shell.execute_reply": "2022-05-31T12:35:38.760552Z",
     "shell.execute_reply.started": "2022-05-31T12:35:37.789332Z"
    }
   },
   "outputs": [
    {
     "name": "stdout",
     "output_type": "stream",
     "text": [
      "186/186 [==============================] - 1s 5ms/step - loss: 0.6010 - accuracy: 0.7991\n"
     ]
    },
    {
     "data": {
      "text/plain": [
       "0.7991229295730591"
      ]
     },
     "execution_count": 110,
     "metadata": {},
     "output_type": "execute_result"
    }
   ],
   "source": [
    "model.evaluate(X_test,y_test_enc)[1]"
   ]
  },
  {
   "cell_type": "code",
   "execution_count": 102,
   "metadata": {
    "execution": {
     "iopub.execute_input": "2022-05-31T11:29:03.020031Z",
     "iopub.status.busy": "2022-05-31T11:29:03.019663Z",
     "iopub.status.idle": "2022-05-31T11:29:03.305189Z",
     "shell.execute_reply": "2022-05-31T11:29:03.304104Z",
     "shell.execute_reply.started": "2022-05-31T11:29:03.020001Z"
    }
   },
   "outputs": [
    {
     "name": "stdout",
     "output_type": "stream",
     "text": [
      "Model: \"sequential_48\"\n",
      "_________________________________________________________________\n",
      "Layer (type)                 Output Shape              Param #   \n",
      "=================================================================\n",
      "embedding_46 (Embedding)     (None, 250, 50)           7148000   \n",
      "_________________________________________________________________\n",
      "dropout_41 (Dropout)         (None, 250, 50)           0         \n",
      "_________________________________________________________________\n",
      "conv1d_29 (Conv1D)           (None, 246, 64)           16064     \n",
      "_________________________________________________________________\n",
      "max_pooling1d_8 (MaxPooling1 (None, 123, 64)           0         \n",
      "_________________________________________________________________\n",
      "dropout_42 (Dropout)         (None, 123, 64)           0         \n",
      "_________________________________________________________________\n",
      "lstm_29 (LSTM)               (None, 64)                33024     \n",
      "_________________________________________________________________\n",
      "dropout_43 (Dropout)         (None, 64)                0         \n",
      "_________________________________________________________________\n",
      "dense_33 (Dense)             (None, 16)                1040      \n",
      "_________________________________________________________________\n",
      "dense_34 (Dense)             (None, 6)                 102       \n",
      "=================================================================\n",
      "Total params: 7,198,230\n",
      "Trainable params: 50,230\n",
      "Non-trainable params: 7,148,000\n",
      "_________________________________________________________________\n"
     ]
    }
   ],
   "source": [
    "model_lstm = Sequential()\n",
    "model_lstm.add(layers.Embedding(vocab_size, 50,weights = [embedding_matrix],\n",
    "                           input_length=maxlen,trainable = False))\n",
    "model_lstm.add(Dropout(rate=0.25))\n",
    "model_lstm.add(layers.Conv1D(64, 5, activation='relu'))\n",
    "\n",
    "\n",
    "model_lstm.add(layers.MaxPooling1D())\n",
    "#model.add(layers.Conv1D(32, (3,), activation='relu'))\n",
    "#model.add(layers.GlobalMaxPooling1D())\n",
    "#model.add(layers.Conv1D(64, (3,), activation='relu'))\n",
    "#model_lstm.add(layers.GlobalMaxPooling1D())\n",
    "model_lstm.add(Dropout(rate=0.25))\n",
    "\n",
    "\n",
    "model_lstm.add(LSTM(64,return_sequences=False, dropout=0.2, recurrent_dropout=0.15))\n",
    "#model_lstm.add(layers.GlobalMaxPooling1D())\n",
    "\n",
    "model_lstm.add(Dropout(rate=0.25))\n",
    "#model_lstm.add(keras.layers.Flatten())\n",
    "\n",
    "model_lstm.add(Dense(16, activation='relu'))\n",
    "\n",
    "#model.add(Dense(32,activation = 'relu'))\n",
    "model_lstm.add(Dense(6, activation='softmax'))\n",
    "model_lstm.compile(loss='categorical_crossentropy', optimizer='adam', metrics=['accuracy'])\n",
    "\n",
    "#epochs = 5\n",
    "batch_size = 128\n",
    "\n",
    "model_lstm.summary()"
   ]
  },
  {
   "cell_type": "code",
   "execution_count": 45,
   "metadata": {
    "execution": {
     "iopub.execute_input": "2022-05-31T10:19:53.963286Z",
     "iopub.status.busy": "2022-05-31T10:19:53.962721Z",
     "iopub.status.idle": "2022-05-31T10:19:54.489633Z",
     "shell.execute_reply": "2022-05-31T10:19:54.488215Z",
     "shell.execute_reply.started": "2022-05-31T10:19:53.963226Z"
    }
   },
   "outputs": [
    {
     "data": {
      "image/png": "[encoded data removed]",
      "text/plain": [
       "<Figure size 864x360 with 2 Axes>"
      ]
     },
     "metadata": {},
     "output_type": "display_data"
    }
   ],
   "source": [
    "plot_history(history_lstm)"
   ]
  },
  {
   "cell_type": "code",
   "execution_count": 46,
   "metadata": {
    "execution": {
     "iopub.execute_input": "2022-05-31T10:20:09.522827Z",
     "iopub.status.busy": "2022-05-31T10:20:09.522420Z",
     "iopub.status.idle": "2022-05-31T10:20:36.688948Z",
     "shell.execute_reply": "2022-05-31T10:20:36.687853Z",
     "shell.execute_reply.started": "2022-05-31T10:20:09.522794Z"
    }
   },
   "outputs": [
    {
     "name": "stdout",
     "output_type": "stream",
     "text": [
      "186/186 [==============================] - 27s 146ms/step - loss: 0.6986 - accuracy: 0.7666\n"
     ]
    },
    {
     "data": {
      "text/plain": [
       "0.7665711045265198"
      ]
     },
     "execution_count": 46,
     "metadata": {},
     "output_type": "execute_result"
    }
   ],
   "source": [
    "model_lstm.evaluate(X_test,y_test_enc)[1]"
   ]
  },
  {
   "cell_type": "code",
   "execution_count": null,
   "metadata": {},
   "outputs": [],
   "source": []
  }
 ],
 "metadata": {
  "kernelspec": {
   "display_name": "Python 3 (ipykernel)",
   "language": "python",
   "name": "python3"
  },
  "language_info": {
   "codemirror_mode": {
    "name": "ipython",
    "version": 3
   },
   "file_extension": ".py",
   "mimetype": "text/x-python",
   "name": "python",
   "nbconvert_exporter": "python",
   "pygments_lexer": "ipython3",
   "version": "3.9.7"
  }
 },
 "nbformat": 4,
 "nbformat_minor": 4
}
